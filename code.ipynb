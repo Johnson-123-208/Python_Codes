{
 "cells": [
  {
   "cell_type": "code",
   "execution_count": null,
   "id": "c793491c",
   "metadata": {},
   "outputs": [],
   "source": [
    "# A. datetime Module\n",
    "from datetime import datetime, timedelta, timezone, date\n",
    "import pytz\n",
    "\n",
    "def days_between(date1, date2):\n",
    "    d1 = datetime.strptime(date1, \"%Y-%m-%d\")\n",
    "    d2 = datetime.strptime(date2, \"%Y-%m-%d\")\n",
    "    return abs((d2 - d1).days)\n",
    "\n",
    "print(\"Days between:\", days_between(\"2024-04-01\", \"2024-04-10\"))\n",
    "\n",
    "print(\"\\nCurrent UTC time:\", datetime.utcnow().replace(tzinfo=timezone.utc))\n",
    "print(\"Local time:\", datetime.now())\n",
    "\n",
    "def is_weekend(date_str):\n",
    "    d = datetime.strptime(date_str, \"%Y-%m-%d\").date()\n",
    "    return d.weekday() >= 5\n",
    "\n",
    "print(\"\\nIs weekend:\", is_weekend(\"2024-04-13\"))\n",
    "\n",
    "def list_dates(start, end):\n",
    "    s = datetime.strptime(start, \"%Y-%m-%d\").date()\n",
    "    e = datetime.strptime(end, \"%Y-%m-%d\").date()\n",
    "    return [(s + timedelta(days=i)).isoformat() for i in range((e - s).days + 1)]\n",
    "\n",
    "print(\"\\nAll dates:\", list_dates(\"2024-04-01\", \"2024-04-05\"))\n",
    "\n",
    "def calculate_age(birthdate):\n",
    "    b = datetime.strptime(birthdate, \"%Y-%m-%d\").date()\n",
    "    today = date.today()\n",
    "    return today.year - b.year - ((today.month, today.day) < (b.month, b.day))\n",
    "\n",
    "print(\"\\nAge:\", calculate_age(\"2000-04-15\"))"
   ]
  },
  {
   "cell_type": "code",
   "execution_count": null,
   "id": "321fa43f",
   "metadata": {},
   "outputs": [],
   "source": [
    "import json\n",
    "\n",
    "def dict_to_json_file(data, filename):\n",
    "    with open(filename, 'w') as f:\n",
    "        json.dump(data, f)\n",
    "\n",
    "dict_to_json_file({\"name\": \"Alice\", \"age\": 25}, \"user.json\")\n",
    "\n",
    "with open(\"user.json\", 'r+') as f:\n",
    "    data = json.load(f)\n",
    "    data['age'] = 26\n",
    "    f.seek(0)\n",
    "    json.dump(data, f)\n",
    "    f.truncate()\n",
    "\n",
    "def filter_json_records(filename, condition_key, condition_value):\n",
    "    with open(filename) as f:\n",
    "        records = json.load(f)\n",
    "    return [r for r in records if r.get(condition_key) == condition_value]\n",
    "\n",
    "# json decoding error handling\n",
    "try:\n",
    "    json.loads('{bad json}')\n",
    "except json.JSONDecodeError as e:\n",
    "    print(\"\\nJSON error:\", e)\n",
    "\n",
    "def flatten_json(y, prefix=''):\n",
    "    out = {}\n",
    "    for k, v in y.items():\n",
    "        if isinstance(v, dict):\n",
    "            out.update(flatten_json(v, f\"{prefix}{k}_\"))\n",
    "        else:\n",
    "            out[f\"{prefix}{k}\"] = v\n",
    "    return out"
   ]
  },
  {
   "cell_type": "code",
   "execution_count": null,
   "id": "ed4361e6",
   "metadata": {},
   "outputs": [],
   "source": [
    "# C. sys Module\n",
    "import sys\n",
    "import platform\n",
    "\n",
    "# Command line argument print file\n",
    "# Use: python script.py filename.txt\n",
    "# with open(sys.argv[1], 'r') as f:\n",
    "#     print(f.read())\n",
    "\n",
    "def print_loaded_module_sizes():\n",
    "    for name, module in sys.modules.items():\n",
    "        if module:\n",
    "            print(f\"{name}: {sys.getsizeof(module)} bytes\")\n",
    "\n",
    "# sys.exit usage\n",
    "def divide(a, b):\n",
    "    if b == 0:\n",
    "        print(\"Cannot divide by zero\")\n",
    "        sys.exit(1)\n",
    "    return a / b\n",
    "\n",
    "print(\"\\nPlatform:\", sys.platform)\n",
    "print(\"Python version:\", sys.version)\n",
    "\n",
    "# Simulate command-line arguments for adding two numbers\n",
    "# sys.argv = [\"script.py\", \"5\", \"7\"]\n",
    "# print(int(sys.argv[1]) + int(sys.argv[2]))"
   ]
  },
  {
   "cell_type": "code",
   "execution_count": null,
   "id": "f97094c0",
   "metadata": {},
   "outputs": [],
   "source": [
    "import os\n",
    "import time\n",
    "\n",
    "def list_files_with_size(path):\n",
    "    for f in os.listdir(path):\n",
    "        full_path = os.path.join(path, f)\n",
    "        print(f, os.path.getsize(full_path), \"bytes\")\n",
    "\n",
    "\n",
    "def ensure_dir_exists(path):\n",
    "    if not os.path.exists(path):\n",
    "        os.makedirs(path)\n",
    "\n",
    "\n",
    "def delete_tmp_files(path):\n",
    "    for root, _, files in os.walk(path):\n",
    "        for f in files:\n",
    "            if f.endswith(\".tmp\"):\n",
    "                os.remove(os.path.join(root, f))\n",
    "\n",
    "\n",
    "def print_env_vars():\n",
    "    for k, v in os.environ.items():\n",
    "        print(f\"{k}={v}\")\n",
    "\n",
    "\n",
    "def rename_txt_files_with_timestamp(path):\n",
    "    for f in os.listdir(path):\n",
    "        if f.endswith(\".txt\"):\n",
    "            base = f[:-4]\n",
    "            new_name = f\"{base}_{int(time.time())}.txt\"\n",
    "            os.rename(os.path.join(path, f), os.path.join(path, new_name))\n",
    "            "
   ]
  },
  {
   "cell_type": "code",
   "execution_count": null,
   "id": "85581f79",
   "metadata": {},
   "outputs": [],
   "source": [
    "#Sum of digits of a number\n",
    "def sum_of_digits(num):\n",
    "    return sum(int(digit) for digit in str(abs(num)))\n"
   ]
  },
  {
   "cell_type": "code",
   "execution_count": null,
   "id": "85da1197",
   "metadata": {},
   "outputs": [],
   "source": [
    "#Find All Factors of a Number\n",
    "def factors(n):\n",
    "    return [i for i in range(1, n+1) if n % i == 0]\n"
   ]
  },
  {
   "cell_type": "code",
   "execution_count": null,
   "id": "d03e9dfe",
   "metadata": {},
   "outputs": [],
   "source": [
    "#Return List of Even Numbers in Range\n",
    "def even_numbers(start, end):\n",
    "    return [i for i in range(start, end+1) if i % 2 == 0]\n"
   ]
  },
  {
   "cell_type": "code",
   "execution_count": null,
   "id": "4080c841",
   "metadata": {},
   "outputs": [],
   "source": [
    "#Check If Two Strings Are Anagrams\n",
    "def are_anagrams(str1, str2):\n",
    "    return sorted(str1) == sorted(str2)\n"
   ]
  },
  {
   "cell_type": "code",
   "execution_count": null,
   "id": "07efdfcf",
   "metadata": {},
   "outputs": [],
   "source": [
    "#Greeting Function\n",
    "def greet(name=\"Guest\"):\n",
    "    print(f\"Hello, {name}!\")"
   ]
  },
  {
   "cell_type": "code",
   "execution_count": null,
   "id": "92af8003",
   "metadata": {},
   "outputs": [],
   "source": [
    "#Power Function with Default Exponent\n",
    "def power(base, exponent=2):\n",
    "    return base ** exponent\n"
   ]
  },
  {
   "cell_type": "code",
   "execution_count": null,
   "id": "5e7b2316",
   "metadata": {},
   "outputs": [],
   "source": [
    "#Sum List with Optional Multiplier\n",
    "def sum_list(numbers,multiplier=None):\n",
    "    total = sum(numbers)\n",
    "    return total * multiplier if multiplier else total"
   ]
  },
  {
   "cell_type": "code",
   "execution_count": null,
   "id": "c684a0fb",
   "metadata": {},
   "outputs": [],
   "source": [
    "#Logger Function\n",
    "def log(message, level='INFO'):\n",
    "    print(f\"[{level}] {message}\")"
   ]
  },
  {
   "cell_type": "code",
   "execution_count": null,
   "id": "4f62cf5f",
   "metadata": {},
   "outputs": [],
   "source": [
    "#Area Calculator with Shape Type\n",
    "def area(length, width=None):\n",
    "    return length * length if width is None else length * width"
   ]
  },
  {
   "cell_type": "code",
   "execution_count": null,
   "id": "bb9154c0",
   "metadata": {},
   "outputs": [],
   "source": []
  },
  {
   "cell_type": "markdown",
   "id": "11d7d36a",
   "metadata": {},
   "source": [
    "##Classes and Objects"
   ]
  },
  {
   "cell_type": "code",
   "execution_count": null,
   "id": "2702f35b",
   "metadata": {},
   "outputs": [],
   "source": [
    "class Rectangle:\n",
    "    def __init__(self,length,width):\n",
    "        self.length = length\n",
    "        self.width = width\n",
    "    \n",
    "    def area(self):\n",
    "        return self.length * self.width\n",
    "\n",
    "    def perimeter(self):\n",
    "        return 2 * (self.length + self.width)"
   ]
  },
  {
   "cell_type": "code",
   "execution_count": null,
   "id": "d0d56bde",
   "metadata": {},
   "outputs": [],
   "source": [
    "#Bank Account Class\n",
    "class BankAccount:\n",
    "    def __init__(self, balance=0):\n",
    "        self.balance = balance\n",
    "    \n",
    "    def deposit(self, amount):\n",
    "        self.balance += amount\n",
    "\n",
    "    def withdraw(self, amount):\n",
    "        self.balance -= amount\n",
    "    \n",
    "    def get_balance(self):\n",
    "        return self.balance"
   ]
  },
  {
   "cell_type": "code",
   "execution_count": null,
   "id": "799fea2b",
   "metadata": {},
   "outputs": [],
   "source": [
    "#Student class with Grade Average\n",
    "class Student:\n",
    "    def __init__(self,name,grade):\n",
    "        self.name = name\n",
    "        self.grade = grade\n",
    "    \n",
    "    def average(self):\n",
    "        return sum(self.grade)/len(self.grade)"
   ]
  },
  {
   "cell_type": "code",
   "execution_count": null,
   "id": "f5b960be",
   "metadata": {},
   "outputs": [],
   "source": [
    "#Circle Class with Class Variable Pi\n",
    "class Circle:\n",
    "    pi = 3.141\n",
    "\n",
    "    def __init__(self, radius):\n",
    "        self.radius = radius\n",
    "\n",
    "    def area(self):\n",
    "        return Circle.pi * self.radius ** 2"
   ]
  },
  {
   "cell_type": "code",
   "execution_count": null,
   "id": "48d12286",
   "metadata": {},
   "outputs": [],
   "source": [
    "#Counter Class\n",
    "class Counter:\n",
    "    def __init__(self, value=0):\n",
    "        self.value = value\n",
    "    \n",
    "    def increment(self):\n",
    "        self.value += 1\n",
    "    \n",
    "    def decreament(self):\n",
    "        self.value -= 1"
   ]
  },
  {
   "cell_type": "markdown",
   "id": "517b6a40",
   "metadata": {},
   "source": [
    "Constructors"
   ]
  },
  {
   "cell_type": "code",
   "execution_count": null,
   "id": "c73bfa0e",
   "metadata": {},
   "outputs": [],
   "source": [
    "#Book Class\n",
    "class Book:\n",
    "    def __init__(self, title, author, year):\n",
    "        self.title = title\n",
    "        self.author = author\n",
    "        self.year = year\n",
    "\n",
    "    def __str__(self):\n",
    "        return f\"{self.title} by {self.author}, {self.year}\""
   ]
  },
  {
   "cell_type": "code",
   "execution_count": null,
   "id": "cde13a35",
   "metadata": {},
   "outputs": [],
   "source": [
    "#Employee Class with Auto-ID\n",
    "class Employee:\n",
    "    id_counter = 1\n",
    "    \n",
    "    def __init__(self,name):\n",
    "        self.name = name\n",
    "        self.id = Employee.id_counter\n",
    "        Employee.id_counter += 1"
   ]
  },
  {
   "cell_type": "code",
   "execution_count": null,
   "id": "def8500b",
   "metadata": {},
   "outputs": [],
   "source": [
    "#Temperature Converter Class\n",
    "class TemperatureConverter:\n",
    "    def __init__(self, celsius):\n",
    "        self.celsius = celsius\n",
    "    \n",
    "    def to_fahrenheit(self):\n",
    "        return (self.celsius * 9/5) + 32\n",
    "\n",
    "    def to_kelvin(self):\n",
    "        return self.celsius + 273.15"
   ]
  },
  {
   "cell_type": "code",
   "execution_count": null,
   "id": "e451549e",
   "metadata": {},
   "outputs": [],
   "source": [
    "#Custom List Items\n",
    "class CustomList:\n",
    "    def __init__(self, items):\n",
    "        self.items = items\n",
    "\n",
    "    def total(self):\n",
    "        return sum(self.items)\n",
    "\n",
    "    def max_value(self):\n",
    "        return max(self.items)"
   ]
  },
  {
   "cell_type": "code",
   "execution_count": null,
   "id": "f09c7c91",
   "metadata": {},
   "outputs": [],
   "source": [
    "#Shape Base Class with Inheritance\n",
    "class Shape:\n",
    "    def __init__(self, name):\n",
    "        self.name = name\n",
    "\n",
    "class Circle(Shape):\n",
    "    def __init__(self, radius):\n",
    "        super().__init__(\"Circle\")\n",
    "        self.radius = radius\n",
    "    \n",
    "    def area(self):\n",
    "        return 3.14 * self.radius ** 2\n",
    "\n",
    "class Square(Shape):\n",
    "    def __init__(self, side):\n",
    "        super().__init__(\"Square\")\n",
    "        self.side = side\n",
    "    \n",
    "    def area(self):\n",
    "        return self.side ** 2\n"
   ]
  },
  {
   "cell_type": "markdown",
   "id": "85dafdaf",
   "metadata": {},
   "source": [
    "File Operations"
   ]
  },
  {
   "cell_type": "code",
   "execution_count": null,
   "id": "1ee876b4",
   "metadata": {},
   "outputs": [],
   "source": [
    "#Read a large file line by line (memory-efficient)\n",
    "def read_large_files(file_path):\n",
    "    with open(file_path, 'r') as file:\n",
    "        for line in file:\n",
    "            print(line.strip())\n",
    "#it is preferred because it avoids loading the entire file into memory, ideal for large files.  "
   ]
  },
  {
   "cell_type": "code",
   "execution_count": null,
   "id": "34c19e05",
   "metadata": {},
   "outputs": [],
   "source": [
    "#Copy content skipping blank lines\n",
    "def copy_non_blank_lines(source, destination):\n",
    "    with open(source, 'r') as src, open(destination, 'w') as dst:\n",
    "        for line in src:\n",
    "            if line.strip():\n",
    "                dst.write(line)\n"
   ]
  },
  {
   "cell_type": "code",
   "execution_count": null,
   "id": "13796eaa",
   "metadata": {},
   "outputs": [],
   "source": [
    "#Merge two files line by line into a third\n",
    "def merge_two_files_line_by_line(file1, file2, output):\n",
    "    with open(file1, 'r') as f1, open(file2, 'r') as f2, open(output, 'w') as out:\n",
    "        for l1, l2 in zip(f1,f2):\n",
    "            out.write(l1.strip() + \" \" + l2)"
   ]
  },
  {
   "cell_type": "code",
   "execution_count": null,
   "id": "bdc3d023",
   "metadata": {},
   "outputs": [],
   "source": [
    "#Count words and lines in a file\n",
    "def count_words_lines(file_path):\n",
    "    lines = 0\n",
    "    words = 0\n",
    "    with open(file_path, 'r') as file:\n",
    "        for line in file:\n",
    "            line += 1 \n",
    "            words += len(line.split())\n",
    "    return lines, words"
   ]
  },
  {
   "cell_type": "code",
   "execution_count": null,
   "id": "15808c48",
   "metadata": {},
   "outputs": [],
   "source": [
    "#Append timestamped log Entry\n",
    "from datetime import datetime\n",
    "\n",
    "def append_log(log_file):\n",
    "    with open(log_file, 'a') as file:\n",
    "        file.write(f\"{datetime.now()}: Script executed\\n\")"
   ]
  },
  {
   "cell_type": "code",
   "execution_count": null,
   "id": "f5509cd9",
   "metadata": {},
   "outputs": [],
   "source": [
    "#Read comma-seperated file manually (No CSV module)\n",
    "def read_csv_manually(file_path):\n",
    "    with open(file_path, 'r') as file:\n",
    "        for line in file:\n",
    "            fields = line.strip().split(',')\n",
    "            print(fields)"
   ]
  },
  {
   "cell_type": "code",
   "execution_count": null,
   "id": "b091b430",
   "metadata": {},
   "outputs": [],
   "source": [
    "#Search Word and Return Line Numbers\n",
    "def search_word(file_path, word):\n",
    "    lines_found = []\n",
    "    with open(file_path, 'r') as file:\n",
    "        for i, line in enumerate(file, 1):\n",
    "            if word in line:\n",
    "                lines_found.append(i)\n",
    "    return lines_found"
   ]
  },
  {
   "cell_type": "code",
   "execution_count": null,
   "id": "dadd1a5d",
   "metadata": {},
   "outputs": [],
   "source": [
    "#Replace word in file and save new file\n",
    "def replace_word(file_path, old, new, output_path):\n",
    "    with open(file_path, 'r') as file:\n",
    "        content = file.read().replace(old,new)\n",
    "    with open(output_path, 'w') as new_file:\n",
    "        new_file.write(content)"
   ]
  },
  {
   "cell_type": "markdown",
   "id": "bea06ace",
   "metadata": {},
   "source": [
    "Exception Handling"
   ]
  },
  {
   "cell_type": "code",
   "execution_count": null,
   "id": "1411ddae",
   "metadata": {},
   "outputs": [],
   "source": [
    "#Difference btwn (except Exception) and (except BaseException)\n",
    "try:\n",
    "    raise KeyboardInterrupt\n",
    "except Exception:\n",
    "    print(\"Caught by Exception\") # Won't catch Keyboard Interrupt\n",
    "except BaseException:\n",
    "    print(\"Caught by Base Exception\") # Will catch it and it is not recommended unless truly needed"
   ]
  },
  {
   "cell_type": "code",
   "execution_count": null,
   "id": "2803d7e5",
   "metadata": {},
   "outputs": [],
   "source": [
    "#Read Integers from file and handle non-integers\n",
    "def read_integers(file_path):\n",
    "    integers = []\n",
    "    with open(file_path,'r') as file:\n",
    "        for line in file:\n",
    "            try:\n",
    "                integers.append(int(line.strip()))\n",
    "            except ValueError:\n",
    "                print(f\"Skipping invalid Line : {line.strip()}\")\n",
    "    return integers"
   ]
  },
  {
   "cell_type": "code",
   "execution_count": null,
   "id": "5ee8fad1",
   "metadata": {},
   "outputs": [],
   "source": [
    "#Decorator to log exceptions\n",
    "def log_exceptions(func):\n",
    "    def wrapper(*args, **kwargs):\n",
    "        try:\n",
    "            return func(*args, **kwargs)\n",
    "        except Exception as e:\n",
    "            with open(\"error_log.txt\", \"a\") as log:\n",
    "                log.write(f'Error in {func.__name__}: {e}\\n')\n",
    "            raise\n",
    "    return wrapper"
   ]
  },
  {
   "cell_type": "code",
   "execution_count": null,
   "id": "149bb74d",
   "metadata": {},
   "outputs": [],
   "source": [
    "#Using context manager with \"with\" auto handles closing and exceptions\n",
    "try:\n",
    "    with open('file.txt','r') as file:\n",
    "        content = file.read()\n",
    "except FileNotFoundError:\n",
    "    print(\"File not found\")"
   ]
  },
  {
   "cell_type": "code",
   "execution_count": null,
   "id": "679f00f3",
   "metadata": {},
   "outputs": [],
   "source": [
    "#Context manager Class that logs exceptions\n",
    "class ExceptionLogger():\n",
    "    def __enter__(self):\n",
    "        return self\n",
    "    \n",
    "    def __exit__(self, exc_type, exc_val, exc_tb):\n",
    "        if exc_type:\n",
    "            with open(\"log.txt\",'a') as f:\n",
    "                f.write(f\"Exception: {exc_val}\\n\")\n",
    "        return True #Supress Exception\n",
    "    \n",
    "with ExceptionLogger():\n",
    "    raise ValueError(\"Text Error\")"
   ]
  },
  {
   "cell_type": "code",
   "execution_count": null,
   "id": "032fb145",
   "metadata": {},
   "outputs": [],
   "source": [
    "#Retry File read upto 3 times\n",
    "def read_file_with_retry(file_path):\n",
    "    for attempt in range(3):\n",
    "        try:\n",
    "            with open(file_path,'r') as file:\n",
    "                return file.read()\n",
    "        except FileNotFoundError as e:\n",
    "            print(f\"Attempt {attempt+1}: {e}\")\n",
    "    \n",
    "    return None"
   ]
  },
  {
   "cell_type": "code",
   "execution_count": null,
   "id": "50ac3de0",
   "metadata": {},
   "outputs": [],
   "source": [
    "#Handle Different file Exceptions\n",
    "try:\n",
    "    file = open('data.txt', 'r')\n",
    "    data = file.read()\n",
    "    file.close()\n",
    "except FileNotFoundError:\n",
    "    print(\"Read Error : File not Found.\")\n",
    "except IOError:\n",
    "    print(\"Write/close error occured\")"
   ]
  },
  {
   "cell_type": "code",
   "execution_count": null,
   "id": "d2d0fa87",
   "metadata": {},
   "outputs": [],
   "source": [
    "#Open Multiple files and handle failures\n",
    "try:\n",
    "    with open(\"file1.txt\", 'r') as f1, open(\"file2.txt\",'r') as f2:\n",
    "        print(f1.read())\n",
    "        print(f2.read())\n",
    "\n",
    "except FileNotFoundError as e:\n",
    "    print(f\"File open failed: {e}\")"
   ]
  },
  {
   "cell_type": "code",
   "execution_count": null,
   "id": "90abe5ea",
   "metadata": {},
   "outputs": [],
   "source": [
    "#Handle Corrupted JSON file and log with traceback\n",
    "import json\n",
    "import traceback\n",
    "\n",
    "def load_json_safe(file_path):\n",
    "    try:\n",
    "        with open(file_path, 'r') as f:\n",
    "            return json.load(f)\n",
    "    except json.JSONDecodeError:\n",
    "        with open(\"json_error.log\", \"a\") as log:\n",
    "            log.write(traceback.format_exc())"
   ]
  },
  {
   "cell_type": "code",
   "execution_count": null,
   "id": "357466da",
   "metadata": {},
   "outputs": [],
   "source": [
    "#Finally Block in file Operations\n",
    "try:\n",
    "    f = open(\"data.txt\", 'r')\n",
    "    print(f.read())\n",
    "except Exception as e:\n",
    "    print(f\"Error: {e}\")\n",
    "finally:\n",
    "    f.close()\n",
    "    print(\"File closed Safely\")"
   ]
  },
  {
   "cell_type": "code",
   "execution_count": null,
   "id": "c8770c41",
   "metadata": {},
   "outputs": [],
   "source": []
  }
 ],
 "metadata": {
  "kernelspec": {
   "display_name": "Python 3",
   "language": "python",
   "name": "python3"
  },
  "language_info": {
   "codemirror_mode": {
    "name": "ipython",
    "version": 3
   },
   "file_extension": ".py",
   "mimetype": "text/x-python",
   "name": "python",
   "nbconvert_exporter": "python",
   "pygments_lexer": "ipython3",
   "version": "3.12.10"
  }
 },
 "nbformat": 4,
 "nbformat_minor": 5
}
